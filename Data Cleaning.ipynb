{
 "cells": [
  {
   "cell_type": "code",
   "execution_count": 105,
   "id": "35e49905-f98f-4436-ac00-d76fde03844c",
   "metadata": {},
   "outputs": [],
   "source": [
    "import pandas as pd\n",
    "import matplotlib.pyplot as plt\n",
    "import seaborn as sns"
   ]
  },
  {
   "cell_type": "code",
   "execution_count": 120,
   "id": "fa1c5315-5fa1-4f87-a742-b37dfedf88c9",
   "metadata": {},
   "outputs": [],
   "source": [
    "class DataClean:\n",
    "    def __init__(self):\n",
    "        pass\n",
    "\n",
    "    def Arrivals_column_cleaning(self, df, col): # dtype was object, so to change to float\n",
    "        \n",
    "        df[col]=df[col].str.replace(',','')\n",
    "        df[col]=df[col].astype(float)\n",
    "        return df[col]\n",
    "\n",
    "    def Null_Value_Handling(self,df, col): #replacing na with mode\n",
    "        n=df[col].mode()\n",
    "        print(n)\n",
    "        df[col]=df[col].fillna(n)\n",
    "        return df[col]\n",
    "        \n",
    "        \n",
    "\n",
    "    def check_na_sum(self,df):\n",
    "        return df.isna().sum()\n",
    "    \n",
    "    \n",
    "    def histogram(self,col): #plotting histogram\n",
    "        plt.hist(col)"
   ]
  },
  {
   "cell_type": "code",
   "execution_count": 121,
   "id": "6c6ef353-2688-45b6-8ef6-13e107641ce6",
   "metadata": {},
   "outputs": [],
   "source": [
    "dc=DataClean()"
   ]
  },
  {
   "cell_type": "code",
   "execution_count": 122,
   "id": "687f074a-0bd1-4c9d-b522-1fb82894be38",
   "metadata": {},
   "outputs": [],
   "source": [
    "df=pd.read_excel(\"Agmarknet_Price_And_Arrival_Report (1).xlsx\",header=1)"
   ]
  },
  {
   "cell_type": "code",
   "execution_count": 123,
   "id": "e98b8221-7721-4b6a-8fc2-e6b599964606",
   "metadata": {},
   "outputs": [
    {
     "data": {
      "text/html": [
       "<div>\n",
       "<style scoped>\n",
       "    .dataframe tbody tr th:only-of-type {\n",
       "        vertical-align: middle;\n",
       "    }\n",
       "\n",
       "    .dataframe tbody tr th {\n",
       "        vertical-align: top;\n",
       "    }\n",
       "\n",
       "    .dataframe thead th {\n",
       "        text-align: right;\n",
       "    }\n",
       "</style>\n",
       "<table border=\"1\" class=\"dataframe\">\n",
       "  <thead>\n",
       "    <tr style=\"text-align: right;\">\n",
       "      <th></th>\n",
       "      <th>State Name</th>\n",
       "      <th>District Name</th>\n",
       "      <th>Market Name</th>\n",
       "      <th>Variety</th>\n",
       "      <th>Group</th>\n",
       "      <th>Arrivals (Tonnes)</th>\n",
       "      <th>Min Price (Rs./Quintal)</th>\n",
       "      <th>Max Price (Rs./Quintal)</th>\n",
       "      <th>Modal Price (Rs./Quintal)</th>\n",
       "      <th>Reported Date</th>\n",
       "    </tr>\n",
       "  </thead>\n",
       "  <tbody>\n",
       "    <tr>\n",
       "      <th>0</th>\n",
       "      <td>Punjab</td>\n",
       "      <td>Fazilka</td>\n",
       "      <td>Abohar</td>\n",
       "      <td>Other</td>\n",
       "      <td>Cereals</td>\n",
       "      <td>100.00</td>\n",
       "      <td>2130.0</td>\n",
       "      <td>2130</td>\n",
       "      <td>2130</td>\n",
       "      <td>2023-05-26</td>\n",
       "    </tr>\n",
       "    <tr>\n",
       "      <th>1</th>\n",
       "      <td>Punjab</td>\n",
       "      <td>Fazilka</td>\n",
       "      <td>Abohar</td>\n",
       "      <td>Other</td>\n",
       "      <td>Cereals</td>\n",
       "      <td>136.00</td>\n",
       "      <td>2125.0</td>\n",
       "      <td>2125</td>\n",
       "      <td>2125</td>\n",
       "      <td>2023-05-25</td>\n",
       "    </tr>\n",
       "    <tr>\n",
       "      <th>2</th>\n",
       "      <td>Punjab</td>\n",
       "      <td>Fazilka</td>\n",
       "      <td>Abohar</td>\n",
       "      <td>Other</td>\n",
       "      <td>Cereals</td>\n",
       "      <td>256.00</td>\n",
       "      <td>2125.0</td>\n",
       "      <td>2130</td>\n",
       "      <td>2125</td>\n",
       "      <td>2023-05-24</td>\n",
       "    </tr>\n",
       "    <tr>\n",
       "      <th>3</th>\n",
       "      <td>Punjab</td>\n",
       "      <td>Fazilka</td>\n",
       "      <td>Abohar</td>\n",
       "      <td>Other</td>\n",
       "      <td>Cereals</td>\n",
       "      <td>270.00</td>\n",
       "      <td>2125.0</td>\n",
       "      <td>2130</td>\n",
       "      <td>2125</td>\n",
       "      <td>2023-05-23</td>\n",
       "    </tr>\n",
       "    <tr>\n",
       "      <th>4</th>\n",
       "      <td>Punjab</td>\n",
       "      <td>Fazilka</td>\n",
       "      <td>Abohar</td>\n",
       "      <td>Other</td>\n",
       "      <td>Cereals</td>\n",
       "      <td>474.00</td>\n",
       "      <td>2125.0</td>\n",
       "      <td>2130</td>\n",
       "      <td>2125</td>\n",
       "      <td>2023-05-22</td>\n",
       "    </tr>\n",
       "  </tbody>\n",
       "</table>\n",
       "</div>"
      ],
      "text/plain": [
       "  State Name District Name Market Name Variety    Group Arrivals (Tonnes)  \\\n",
       "0     Punjab       Fazilka      Abohar   Other  Cereals            100.00   \n",
       "1     Punjab       Fazilka      Abohar   Other  Cereals            136.00   \n",
       "2     Punjab       Fazilka      Abohar   Other  Cereals            256.00   \n",
       "3     Punjab       Fazilka      Abohar   Other  Cereals            270.00   \n",
       "4     Punjab       Fazilka      Abohar   Other  Cereals            474.00   \n",
       "\n",
       "   Min Price (Rs./Quintal)  Max Price (Rs./Quintal)  \\\n",
       "0                   2130.0                     2130   \n",
       "1                   2125.0                     2125   \n",
       "2                   2125.0                     2130   \n",
       "3                   2125.0                     2130   \n",
       "4                   2125.0                     2130   \n",
       "\n",
       "   Modal Price (Rs./Quintal) Reported Date  \n",
       "0                       2130    2023-05-26  \n",
       "1                       2125    2023-05-25  \n",
       "2                       2125    2023-05-24  \n",
       "3                       2125    2023-05-23  \n",
       "4                       2125    2023-05-22  "
      ]
     },
     "execution_count": 123,
     "metadata": {},
     "output_type": "execute_result"
    }
   ],
   "source": [
    "df.head()"
   ]
  },
  {
   "cell_type": "code",
   "execution_count": 124,
   "id": "af8cef3d-8966-4ffb-8c45-fba315d9591c",
   "metadata": {},
   "outputs": [
    {
     "name": "stdout",
     "output_type": "stream",
     "text": [
      "<class 'pandas.core.frame.DataFrame'>\n",
      "RangeIndex: 5667 entries, 0 to 5666\n",
      "Data columns (total 10 columns):\n",
      " #   Column                     Non-Null Count  Dtype         \n",
      "---  ------                     --------------  -----         \n",
      " 0   State Name                 5667 non-null   object        \n",
      " 1   District Name              5667 non-null   object        \n",
      " 2   Market Name                5667 non-null   object        \n",
      " 3   Variety                    5667 non-null   object        \n",
      " 4   Group                      5667 non-null   object        \n",
      " 5   Arrivals (Tonnes)          5659 non-null   object        \n",
      " 6   Min Price (Rs./Quintal)    5667 non-null   float64       \n",
      " 7   Max Price (Rs./Quintal)    5667 non-null   int64         \n",
      " 8   Modal Price (Rs./Quintal)  5667 non-null   int64         \n",
      " 9   Reported Date              5667 non-null   datetime64[ns]\n",
      "dtypes: datetime64[ns](1), float64(1), int64(2), object(6)\n",
      "memory usage: 442.9+ KB\n"
     ]
    }
   ],
   "source": [
    "df.info()"
   ]
  },
  {
   "cell_type": "code",
   "execution_count": 125,
   "id": "ba3b3f07-4aa1-46cd-bfdd-174d58209a25",
   "metadata": {},
   "outputs": [
    {
     "data": {
      "text/plain": [
       "State Name                   0\n",
       "District Name                0\n",
       "Market Name                  0\n",
       "Variety                      0\n",
       "Group                        0\n",
       "Arrivals (Tonnes)            8\n",
       "Min Price (Rs./Quintal)      0\n",
       "Max Price (Rs./Quintal)      0\n",
       "Modal Price (Rs./Quintal)    0\n",
       "Reported Date                0\n",
       "dtype: int64"
      ]
     },
     "execution_count": 125,
     "metadata": {},
     "output_type": "execute_result"
    }
   ],
   "source": [
    "dc.check_na_sum(df)"
   ]
  },
  {
   "cell_type": "code",
   "execution_count": 126,
   "id": "090f3544-4dfa-41bd-aa82-f85479814d40",
   "metadata": {},
   "outputs": [],
   "source": [
    "df['Arrivals (Tonnes)']=dc.Arrivals_column_cleaning(df, 'Arrivals (Tonnes)')"
   ]
  },
  {
   "cell_type": "code",
   "execution_count": 127,
   "id": "ef52c18b-8651-4ef2-ab36-b84d3961ac81",
   "metadata": {},
   "outputs": [
    {
     "data": {
      "text/plain": [
       "State Name                   0\n",
       "District Name                0\n",
       "Market Name                  0\n",
       "Variety                      0\n",
       "Group                        0\n",
       "Arrivals (Tonnes)            8\n",
       "Min Price (Rs./Quintal)      0\n",
       "Max Price (Rs./Quintal)      0\n",
       "Modal Price (Rs./Quintal)    0\n",
       "Reported Date                0\n",
       "dtype: int64"
      ]
     },
     "execution_count": 127,
     "metadata": {},
     "output_type": "execute_result"
    }
   ],
   "source": [
    "dc.check_na_sum(df)"
   ]
  },
  {
   "cell_type": "code",
   "execution_count": 128,
   "id": "022a4e5f-5473-4c65-a098-17060b77a791",
   "metadata": {},
   "outputs": [
    {
     "data": {
      "image/png": "[encoded data removed]",
      "text/plain": [
       "<Figure size 640x480 with 1 Axes>"
      ]
     },
     "metadata": {},
     "output_type": "display_data"
    }
   ],
   "source": [
    "dc.histogram(df['Arrivals (Tonnes)'])"
   ]
  },
  {
   "cell_type": "code",
   "execution_count": 129,
   "id": "d2bcbd7f-f3fa-46d4-9ecc-711fc7eb4016",
   "metadata": {},
   "outputs": [
    {
     "name": "stdout",
     "output_type": "stream",
     "text": [
      "0    100.0\n",
      "Name: Arrivals (Tonnes), dtype: float64\n"
     ]
    }
   ],
   "source": [
    "df['Arrivals (Tonnes)'] = dc.Null_Value_Handling(df, 'Arrivals (Tonnes)')"
   ]
  },
  {
   "cell_type": "code",
   "execution_count": null,
   "id": "672302bd-cb90-4a0f-85b5-381e46c9aa24",
   "metadata": {},
   "outputs": [],
   "source": []
  },
  {
   "cell_type": "code",
   "execution_count": null,
   "id": "ec327152-53a4-4376-8063-30e6d4c024b3",
   "metadata": {},
   "outputs": [],
   "source": []
  }
 ],
 "metadata": {
  "kernelspec": {
   "display_name": "My_Env",
   "language": "python",
   "name": "my_env"
  },
  "language_info": {
   "codemirror_mode": {
    "name": "ipython",
    "version": 3
   },
   "file_extension": ".py",
   "mimetype": "text/x-python",
   "name": "python",
   "nbconvert_exporter": "python",
   "pygments_lexer": "ipython3",
   "version": "3.12.0"
  }
 },
 "nbformat": 4,
 "nbformat_minor": 5
}
